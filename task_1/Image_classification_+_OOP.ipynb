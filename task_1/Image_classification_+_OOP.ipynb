{
  "nbformat": 4,
  "nbformat_minor": 0,
  "metadata": {
    "colab": {
      "provenance": []
    },
    "kernelspec": {
      "name": "python3",
      "display_name": "Python 3"
    },
    "language_info": {
      "name": "python"
    }
  },
  "cells": [
    {
      "cell_type": "code",
      "execution_count": null,
      "metadata": {
        "id": "fy2Smr5mr49R"
      },
      "outputs": [],
      "source": [
        "import numpy as np\n",
        "import tensorflow as tf\n",
        "from tensorflow import keras\n",
        "from abc import abstractmethod, ABC\n",
        "from keras.optimizers import Adam\n",
        "from tensorflow.keras import layers\n",
        "from sklearn.ensemble import RandomForestClassifier\n",
        "from sklearn.metrics import accuracy_score"
      ]
    },
    {
      "cell_type": "code",
      "source": [
        "class MnistClassifierInterface(ABC):\n",
        "  @abstractmethod\n",
        "  def train(self, X, y):\n",
        "    pass\n",
        "\n",
        "  @abstractmethod\n",
        "  def predict(self, X):\n",
        "    pass"
      ],
      "metadata": {
        "id": "rkwysxnmr_Ah"
      },
      "execution_count": null,
      "outputs": []
    },
    {
      "cell_type": "code",
      "source": [
        "class RFClassifier(MnistClassifierInterface):\n",
        "  def __init__(self, n_estimators=100, criterion=\"gini\", max_depth=None):\n",
        "    self.model = RandomForestClassifier(n_estimators=n_estimators,\n",
        "                                        criterion=criterion,\n",
        "                                        max_depth=max_depth)\n",
        "\n",
        "  def train(self, X, y):\n",
        "    self.model.fit(X, y)\n",
        "    y_pred = self.model.predict(X)\n",
        "    train_acc = accuracy_score(y, y_pred)\n",
        "    print(\"Train accuracy: \", train_acc)\n",
        "\n",
        "  def predict(self, X):\n",
        "    return self.model.predict(X)"
      ],
      "metadata": {
        "id": "N0TBzyg5r_N-"
      },
      "execution_count": null,
      "outputs": []
    },
    {
      "cell_type": "code",
      "source": [
        "class FeedForwardNNClassifier(MnistClassifierInterface):\n",
        "  def __init__(self, X_size=None, y_size=None, epochs=10,\n",
        "               batch_size=32, lr=0.0001):\n",
        "    self.lr = lr\n",
        "    self.epochs = epochs\n",
        "    self.batch_size = batch_size\n",
        "\n",
        "    self.model = keras.Sequential([\n",
        "        layers.Input(shape=X_size),\n",
        "        layers.Dense(128, activation=\"relu\"),\n",
        "        layers.Dense(64, activation=\"relu\"),\n",
        "        layers.Dense(y_size, activation=\"softmax\"),\n",
        "    ])\n",
        "    self.model.compile(optimizer=Adam(learning_rate=self.lr),\n",
        "                       loss=\"sparse_categorical_crossentropy\",\n",
        "                       metrics=[\"accuracy\"])\n",
        "\n",
        "  def train(self, X, y):\n",
        "    self.model.fit(X, y, epochs=self.epochs,\n",
        "                         batch_size=self.batch_size)\n",
        "\n",
        "  def predict(self, X):\n",
        "    y_pred = self.model.predict(X)\n",
        "    return np.argmax(y_pred, axis=1)"
      ],
      "metadata": {
        "id": "G_kQtVx_r_Qu"
      },
      "execution_count": null,
      "outputs": []
    },
    {
      "cell_type": "code",
      "source": [
        "class CNNClassifier(MnistClassifierInterface):\n",
        "  def __init__(self, X_size=None, y_size=None, epochs=10,\n",
        "               batch_size=32, lr=0.0001):\n",
        "    self.lr = lr\n",
        "    self.epochs = epochs\n",
        "    self.batch_size = batch_size\n",
        "\n",
        "    self.model = keras.Sequential([\n",
        "        layers.Lambda(lambda x: tf.expand_dims(x, -1), input_shape=X_size),\n",
        "        layers.Conv2D(32, kernel_size=(3, 3), activation=\"relu\"),\n",
        "        layers.MaxPooling2D(pool_size=(2, 2)),\n",
        "        layers.Conv2D(64, kernel_size=(3, 3), activation=\"relu\"),\n",
        "        layers.MaxPooling2D(pool_size=(2, 2)),\n",
        "        layers.Flatten(),\n",
        "        layers.Dropout(0.5),\n",
        "        layers.Dense(y_size, activation=\"softmax\"),\n",
        "    ])\n",
        "    self.model.compile(optimizer=Adam(learning_rate=self.lr),\n",
        "                       loss=\"sparse_categorical_crossentropy\",\n",
        "                       metrics=[\"accuracy\"])\n",
        "\n",
        "  def train(self, X, y):\n",
        "    self.model.fit(X, y, epochs=self.epochs,\n",
        "                         batch_size=self.batch_size)\n",
        "\n",
        "  def predict(self, X):\n",
        "    y_pred = self.model.predict(X)\n",
        "    return np.argmax(y_pred, axis=1)"
      ],
      "metadata": {
        "id": "8vrl_fBwr_VA"
      },
      "execution_count": null,
      "outputs": []
    },
    {
      "cell_type": "code",
      "source": [
        "class MnistClassifier:\n",
        "  def __init__(self, alg_type, **kwargs):\n",
        "    if alg_type == \"cnn\":\n",
        "      self.model = CNNClassifier(**kwargs)\n",
        "    elif alg_type == \"rf\":\n",
        "      self.model = RFClassifier(**kwargs)\n",
        "    elif alg_type == \"nn\":\n",
        "      self.model = FeedForwardNNClassifier(**kwargs)\n",
        "    else:\n",
        "      raise ValueError(\"There is no such algorithm. Please select one of the presented algorithms: cnn, rf, nn\")\n",
        "\n",
        "  def train(self, X, y):\n",
        "    self.model.train(X, y)\n",
        "\n",
        "  def predict(self, X):\n",
        "    return self.model.predict(X)"
      ],
      "metadata": {
        "id": "rj4VQs0IsENh"
      },
      "execution_count": null,
      "outputs": []
    },
    {
      "cell_type": "code",
      "source": [
        "(X_train, y_train), (X_test, y_test) = keras.datasets.mnist.load_data()"
      ],
      "metadata": {
        "colab": {
          "base_uri": "https://localhost:8080/"
        },
        "id": "a_7rPkP7sFfS",
        "outputId": "89566d3c-b3de-4961-ee55-510c9cc14c59"
      },
      "execution_count": null,
      "outputs": [
        {
          "output_type": "stream",
          "name": "stdout",
          "text": [
            "Downloading data from https://storage.googleapis.com/tensorflow/tf-keras-datasets/mnist.npz\n",
            "\u001b[1m11490434/11490434\u001b[0m \u001b[32m━━━━━━━━━━━━━━━━━━━━\u001b[0m\u001b[37m\u001b[0m \u001b[1m2s\u001b[0m 0us/step\n"
          ]
        }
      ]
    },
    {
      "cell_type": "code",
      "source": [
        "print(f\"X_train: {X_train.shape}, X_test: {X_test.shape}\")\n",
        "print(f\"y_train: {y_train.shape}, y_test: {y_test.shape}\")"
      ],
      "metadata": {
        "colab": {
          "base_uri": "https://localhost:8080/"
        },
        "id": "Dz9WhnHRsFhu",
        "outputId": "6005346d-c654-448e-c48e-91785fc3a690"
      },
      "execution_count": null,
      "outputs": [
        {
          "output_type": "stream",
          "name": "stdout",
          "text": [
            "X_train: (60000, 28, 28), X_test: (10000, 28, 28)\n",
            "y_train: (60000,), y_test: (10000,)\n"
          ]
        }
      ]
    },
    {
      "cell_type": "code",
      "source": [
        "# Data normalization\n",
        "X_train = X_train.astype('float32') / 255.\n",
        "X_test = X_test.astype('float32') / 255.\n",
        "\n",
        "# Flatten images for RF and FeedForward NN model\n",
        "X_train_flatten = X_train.reshape((len(X_train), np.prod(X_train.shape[1:])))\n",
        "X_test_flatten = X_test.reshape((len(X_test), np.prod(X_test.shape[1:])))"
      ],
      "metadata": {
        "id": "WQlcSSqxr_Xx"
      },
      "execution_count": null,
      "outputs": []
    },
    {
      "cell_type": "code",
      "source": [
        "# RandomForest model test\n",
        "model = MnistClassifier(alg_type=\"rf\")\n",
        "model.train(X_train_flatten, y_train)\n",
        "\n",
        "y_test_pred = model.predict(X_test_flatten)\n",
        "test_acc = accuracy_score(y_test, y_test_pred)\n",
        "print(\"Test accuracy: \", test_acc)"
      ],
      "metadata": {
        "colab": {
          "base_uri": "https://localhost:8080/"
        },
        "id": "JDK8ALfJsH8k",
        "outputId": "b060b689-dec0-41d1-b729-95607c831e1c"
      },
      "execution_count": null,
      "outputs": [
        {
          "output_type": "stream",
          "name": "stdout",
          "text": [
            "Train accuracy:  1.0\n",
            "Test accuracy:  0.9688\n"
          ]
        }
      ]
    },
    {
      "cell_type": "code",
      "source": [
        "# FeedForward NN model test\n",
        "model = MnistClassifier(alg_type=\"nn\", X_size=(X_train_flatten.shape[1],), y_size=10)\n",
        "model.train(X_train_flatten, y_train)\n",
        "\n",
        "y_test_pred = model.predict(X_test_flatten)\n",
        "test_acc = accuracy_score(y_test, y_test_pred)\n",
        "print(\"Test accuracy: \", test_acc)"
      ],
      "metadata": {
        "colab": {
          "base_uri": "https://localhost:8080/"
        },
        "id": "PCt7qRqJsNx6",
        "outputId": "ce3ee126-b819-4bef-b5be-4922968332c3"
      },
      "execution_count": null,
      "outputs": [
        {
          "output_type": "stream",
          "name": "stdout",
          "text": [
            "Epoch 1/10\n",
            "\u001b[1m1875/1875\u001b[0m \u001b[32m━━━━━━━━━━━━━━━━━━━━\u001b[0m\u001b[37m\u001b[0m \u001b[1m10s\u001b[0m 4ms/step - accuracy: 0.7176 - loss: 1.0459\n",
            "Epoch 2/10\n",
            "\u001b[1m1875/1875\u001b[0m \u001b[32m━━━━━━━━━━━━━━━━━━━━\u001b[0m\u001b[37m\u001b[0m \u001b[1m9s\u001b[0m 4ms/step - accuracy: 0.9260 - loss: 0.2630\n",
            "Epoch 3/10\n",
            "\u001b[1m1875/1875\u001b[0m \u001b[32m━━━━━━━━━━━━━━━━━━━━\u001b[0m\u001b[37m\u001b[0m \u001b[1m8s\u001b[0m 4ms/step - accuracy: 0.9443 - loss: 0.2005\n",
            "Epoch 4/10\n",
            "\u001b[1m1875/1875\u001b[0m \u001b[32m━━━━━━━━━━━━━━━━━━━━\u001b[0m\u001b[37m\u001b[0m \u001b[1m8s\u001b[0m 4ms/step - accuracy: 0.9533 - loss: 0.1634\n",
            "Epoch 5/10\n",
            "\u001b[1m1875/1875\u001b[0m \u001b[32m━━━━━━━━━━━━━━━━━━━━\u001b[0m\u001b[37m\u001b[0m \u001b[1m9s\u001b[0m 4ms/step - accuracy: 0.9608 - loss: 0.1385\n",
            "Epoch 6/10\n",
            "\u001b[1m1875/1875\u001b[0m \u001b[32m━━━━━━━━━━━━━━━━━━━━\u001b[0m\u001b[37m\u001b[0m \u001b[1m8s\u001b[0m 4ms/step - accuracy: 0.9652 - loss: 0.1224\n",
            "Epoch 7/10\n",
            "\u001b[1m1875/1875\u001b[0m \u001b[32m━━━━━━━━━━━━━━━━━━━━\u001b[0m\u001b[37m\u001b[0m \u001b[1m11s\u001b[0m 4ms/step - accuracy: 0.9696 - loss: 0.1081\n",
            "Epoch 8/10\n",
            "\u001b[1m1875/1875\u001b[0m \u001b[32m━━━━━━━━━━━━━━━━━━━━\u001b[0m\u001b[37m\u001b[0m \u001b[1m10s\u001b[0m 4ms/step - accuracy: 0.9734 - loss: 0.0967\n",
            "Epoch 9/10\n",
            "\u001b[1m1875/1875\u001b[0m \u001b[32m━━━━━━━━━━━━━━━━━━━━\u001b[0m\u001b[37m\u001b[0m \u001b[1m11s\u001b[0m 4ms/step - accuracy: 0.9752 - loss: 0.0884\n",
            "Epoch 10/10\n",
            "\u001b[1m1875/1875\u001b[0m \u001b[32m━━━━━━━━━━━━━━━━━━━━\u001b[0m\u001b[37m\u001b[0m \u001b[1m10s\u001b[0m 4ms/step - accuracy: 0.9778 - loss: 0.0797\n",
            "\u001b[1m313/313\u001b[0m \u001b[32m━━━━━━━━━━━━━━━━━━━━\u001b[0m\u001b[37m\u001b[0m \u001b[1m1s\u001b[0m 2ms/step\n",
            "Test accuracy:  0.9705\n"
          ]
        }
      ]
    },
    {
      "cell_type": "code",
      "source": [
        "# CNN model test\n",
        "model = MnistClassifier(alg_type=\"cnn\", X_size=(28, 28), y_size=10)\n",
        "model.train(X_train, y_train)\n",
        "\n",
        "y_test_pred = model.predict(X_test)\n",
        "test_acc = accuracy_score(y_test, y_test_pred)\n",
        "print(\"Test accuracy: \", test_acc)"
      ],
      "metadata": {
        "colab": {
          "base_uri": "https://localhost:8080/"
        },
        "id": "DjJmjZlAsIBX",
        "outputId": "259a6e12-2808-47e8-86c5-0eed04364384"
      },
      "execution_count": null,
      "outputs": [
        {
          "output_type": "stream",
          "name": "stderr",
          "text": [
            "/usr/local/lib/python3.11/dist-packages/keras/src/layers/core/lambda_layer.py:65: UserWarning: Do not pass an `input_shape`/`input_dim` argument to a layer. When using Sequential models, prefer using an `Input(shape)` object as the first layer in the model instead.\n",
            "  super().__init__(**kwargs)\n"
          ]
        },
        {
          "output_type": "stream",
          "name": "stdout",
          "text": [
            "Epoch 1/10\n",
            "\u001b[1m1875/1875\u001b[0m \u001b[32m━━━━━━━━━━━━━━━━━━━━\u001b[0m\u001b[37m\u001b[0m \u001b[1m54s\u001b[0m 28ms/step - accuracy: 0.6177 - loss: 1.2369\n",
            "Epoch 2/10\n",
            "\u001b[1m1875/1875\u001b[0m \u001b[32m━━━━━━━━━━━━━━━━━━━━\u001b[0m\u001b[37m\u001b[0m \u001b[1m82s\u001b[0m 28ms/step - accuracy: 0.9224 - loss: 0.2564\n",
            "Epoch 3/10\n",
            "\u001b[1m1875/1875\u001b[0m \u001b[32m━━━━━━━━━━━━━━━━━━━━\u001b[0m\u001b[37m\u001b[0m \u001b[1m54s\u001b[0m 29ms/step - accuracy: 0.9471 - loss: 0.1714\n",
            "Epoch 4/10\n",
            "\u001b[1m1875/1875\u001b[0m \u001b[32m━━━━━━━━━━━━━━━━━━━━\u001b[0m\u001b[37m\u001b[0m \u001b[1m52s\u001b[0m 28ms/step - accuracy: 0.9585 - loss: 0.1384\n",
            "Epoch 5/10\n",
            "\u001b[1m1875/1875\u001b[0m \u001b[32m━━━━━━━━━━━━━━━━━━━━\u001b[0m\u001b[37m\u001b[0m \u001b[1m82s\u001b[0m 28ms/step - accuracy: 0.9613 - loss: 0.1226\n",
            "Epoch 6/10\n",
            "\u001b[1m1875/1875\u001b[0m \u001b[32m━━━━━━━━━━━━━━━━━━━━\u001b[0m\u001b[37m\u001b[0m \u001b[1m82s\u001b[0m 28ms/step - accuracy: 0.9695 - loss: 0.1031\n",
            "Epoch 7/10\n",
            "\u001b[1m1875/1875\u001b[0m \u001b[32m━━━━━━━━━━━━━━━━━━━━\u001b[0m\u001b[37m\u001b[0m \u001b[1m81s\u001b[0m 28ms/step - accuracy: 0.9706 - loss: 0.0967\n",
            "Epoch 8/10\n",
            "\u001b[1m1875/1875\u001b[0m \u001b[32m━━━━━━━━━━━━━━━━━━━━\u001b[0m\u001b[37m\u001b[0m \u001b[1m51s\u001b[0m 27ms/step - accuracy: 0.9747 - loss: 0.0838\n",
            "Epoch 9/10\n",
            "\u001b[1m1875/1875\u001b[0m \u001b[32m━━━━━━━━━━━━━━━━━━━━\u001b[0m\u001b[37m\u001b[0m \u001b[1m82s\u001b[0m 27ms/step - accuracy: 0.9753 - loss: 0.0804\n",
            "Epoch 10/10\n",
            "\u001b[1m1875/1875\u001b[0m \u001b[32m━━━━━━━━━━━━━━━━━━━━\u001b[0m\u001b[37m\u001b[0m \u001b[1m82s\u001b[0m 27ms/step - accuracy: 0.9766 - loss: 0.0749\n",
            "\u001b[1m313/313\u001b[0m \u001b[32m━━━━━━━━━━━━━━━━━━━━\u001b[0m\u001b[37m\u001b[0m \u001b[1m3s\u001b[0m 8ms/step\n",
            "Test accuracy:  0.9859\n"
          ]
        }
      ]
    }
  ]
}